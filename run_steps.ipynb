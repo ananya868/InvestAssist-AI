{
 "cells": [
  {
   "cell_type": "markdown",
   "metadata": {},
   "source": [
    "Investor Profile step"
   ]
  },
  {
   "cell_type": "code",
   "execution_count": 12,
   "metadata": {},
   "outputs": [],
   "source": [
    "from steps.investor_profile_step import InvestorProfile \n",
    "\n",
    "basic_info = {\n",
    "    'Name': 'Shin Chan',\n",
    "    'Age': 22, \n",
    "    'Occupation': 'Machine learning engineer', \n",
    "    'Annual Income': '$50000',\n",
    "    'Net Worth': '$100000'\n",
    "}\n",
    "financial_goals = {\n",
    "    'Primary Goal': 'Financial Freedom in 10 years',\n",
    "    'Secondary Goal': 'Buy a house in 5 years'\n",
    "}\n",
    "investment_horizon = {\n",
    "    'Short Term': '1-3 years',\n",
    "    'Long Term': '5-10 years',\n",
    "}\n",
    "risk_tolerance = {\n",
    "    'Risk Tolerance': 'High Risk Tolerance with careful investment in stocks. Comfortable with moderate market fluctuations'\n",
    "}\n",
    "historical_investment_behavior = {\n",
    "    'Historical investments': 'Diversified Portfolio with focus on real estate. Mutual fund and ETFs with low risk is also preferable'\n",
    "}\n",
    "investment_preferences = {\n",
    "    'Investment Preferences': 'Investment in technology stocks, real estate and mutual funds'\n",
    "}\n",
    "liquidity_needs = {\n",
    "    'Emergency Funds': '$15000 in high yield savings account'\n",
    "}\n",
    "import os \n",
    "\n",
    "api = os.environ.get('OPENAI_API_KEY')\n",
    "\n",
    "investor_profile_agent = InvestorProfile(\n",
    "    investor_name='Shin chan',\n",
    "    basic_info=basic_info,\n",
    "    financial_goals=financial_goals,\n",
    "    investment_horizon=investment_horizon,\n",
    "    risk_tolerance=risk_tolerance,\n",
    "    historical_investment_behavior=historical_investment_behavior,\n",
    "    investment_preferences=investment_preferences,\n",
    "    liquidity_needs=liquidity_needs,\n",
    "    other_info='',\n",
    "    filename = 'profiler/pdf_profiles/sample_test_01.pdf',\n",
    "    save_pdf = True,\n",
    "    api_key=api\n",
    ")"
   ]
  },
  {
   "cell_type": "code",
   "execution_count": null,
   "metadata": {},
   "outputs": [],
   "source": [
    "json_data, portfolio, goals, risks  = investor_profile_agent.build()"
   ]
  },
  {
   "cell_type": "markdown",
   "metadata": {},
   "source": [
    "Data Collection Step "
   ]
  },
  {
   "cell_type": "markdown",
   "metadata": {},
   "source": [
    "- Real-time data collection "
   ]
  },
  {
   "cell_type": "code",
   "execution_count": null,
   "metadata": {},
   "outputs": [
    {
     "name": "stdout",
     "output_type": "stream",
     "text": [
      "[info] --json loaded successfully!--\n",
      "[info] --primary_assets agent created successfully!--\n",
      "\u001b[91m Error parsing LLM output, agent will retry: I did it wrong. Invalid Format: I missed the 'Action:' after 'Thought:'. I will do right next, and don't use a tool I have already used.\n",
      "\n",
      "If you don't need to use any more tools, you must give your best complete final answer, make sure it satisfy the expect criteria, use the EXACT format below:\n",
      "\n",
      "Thought: I now can give a great answer\n",
      "Final Answer: my best complete final answer to the task.\n",
      "\n",
      "\u001b[00m\n"
     ]
    },
    {
     "name": "stderr",
     "output_type": "stream",
     "text": [
      "2024-11-15 13:14:09,012 - 7020 - __init__.py-__init__:537 - WARNING: Overriding of current TracerProvider is not allowed\n"
     ]
    },
    {
     "name": "stdout",
     "output_type": "stream",
     "text": [
      "[info] --secondary_assets agent created successfully!--\n",
      "\u001b[91m Error parsing LLM output, agent will retry: I did it wrong. Invalid Format: I missed the 'Action:' after 'Thought:'. I will do right next, and don't use a tool I have already used.\n",
      "\n",
      "If you don't need to use any more tools, you must give your best complete final answer, make sure it satisfy the expect criteria, use the EXACT format below:\n",
      "\n",
      "Thought: I now can give a great answer\n",
      "Final Answer: my best complete final answer to the task.\n",
      "\n",
      "\u001b[00m\n"
     ]
    },
    {
     "name": "stderr",
     "output_type": "stream",
     "text": [
      "2024-11-15 13:14:32,408 - 7020 - __init__.py-__init__:537 - WARNING: Overriding of current TracerProvider is not allowed\n"
     ]
    },
    {
     "name": "stdout",
     "output_type": "stream",
     "text": [
      "[info] --Asset Agents ran successfully!--\n",
      "[info] --json loaded successfully!--\n",
      "[info] --market trends agent created successfully!--\n"
     ]
    },
    {
     "name": "stderr",
     "output_type": "stream",
     "text": [
      "2024-11-15 13:14:50,836 - 7020 - __init__.py-__init__:537 - WARNING: Overriding of current TracerProvider is not allowed\n"
     ]
    },
    {
     "name": "stdout",
     "output_type": "stream",
     "text": [
      "[info] --news agent created successfully!--\n"
     ]
    },
    {
     "name": "stderr",
     "output_type": "stream",
     "text": [
      "2024-11-15 13:15:06,226 - 7020 - __init__.py-__init__:537 - WARNING: Overriding of current TracerProvider is not allowed\n"
     ]
    },
    {
     "name": "stdout",
     "output_type": "stream",
     "text": [
      "[info] --social media agent created successfully!--\n",
      "\u001b[91m Error parsing LLM output, agent will retry: I did it wrong. Tried to both perform Action and give a Final Answer at the same time, I must do one or the other\u001b[00m\n",
      "[info] --Trend Agents ran successfully!--\n",
      "[info] --Asset Data saved successfully!--\n",
      "[info] --Trend Data saved successfully!--\n"
     ]
    }
   ],
   "source": [
    "import warnings\n",
    "warnings.filterwarnings(\"ignore\")\n",
    "\n",
    "from steps.real_time_data_collection import real_time_data_collection_step\n",
    "\n",
    "assets_dict, trends_dict = real_time_data_collection_step()"
   ]
  },
  {
   "cell_type": "code",
   "execution_count": null,
   "metadata": {},
   "outputs": [
    {
     "data": {
      "text/plain": [
       "461"
      ]
     },
     "execution_count": 4,
     "metadata": {},
     "output_type": "execute_result"
    }
   ],
   "source": [
    "len(assets_dict.get('primary_assets').raw.split())"
   ]
  },
  {
   "cell_type": "code",
   "execution_count": null,
   "metadata": {},
   "outputs": [
    {
     "data": {
      "text/plain": [
       "{'primary_assets': \"**Comprehensive Financial Report on Key Asset Classes - October 2023**\\n\\nThis report provides a detailed overview of the current state of various asset classes, including Stocks, Real Estate, Mutual Funds, Bank Deposits, and Public Provident Funds (PPFs) as of October 2023.\\n\\n### Stocks\\nAs of October 2023, the stock market has shown volatility yet a general upward trend following a significant correction earlier in the year. The S&P 500 has seen gains of approximately 5% in the past month. Factors contributing to this rally include a positive earnings season and resilient economic indicators, such as job growth and consumer spending. Investors are optimistic about tech stocks, especially in areas like artificial intelligence and renewable energy, which are expected to have substantial future growth potential.\\n\\n### Real Estate\\nThe real estate market remains robust, displaying a mixed yet largely positive outlook. The average home prices in major metropolitan areas have risen by 3-4% year-over-year, despite rising interest rates. The rental market is also tight, with vacancy rates declining and rental prices increasing. Investment in real estate investment trusts (REITs) is gaining traction, driven by strong demand in the logistics and housing sectors, particularly in suburban areas as more people seek larger living spaces.\\n\\n### Mutual Funds\\nMutual funds, particularly equity funds, have rebounded strongly. In October, funds focusing on small- and mid-cap stocks saw inflows as investors look for growth opportunities post-correction. According to Morningstar, the average equity mutual fund has returned about 6% in the last quarter. However, bond funds face challenges due to potential interest rate hikes, leading to a reallocation of portfolios toward equities.\\n\\n### Bank Deposits\\nBank deposit rates have improved slightly, with many banks now offering interest rates of around 1.5% to 2.5% for savings accounts, up from near-zero in previous years. This increase is attributed to the Federal Reserve's monetary policy adjustments aimed at controlling inflation. While returns on bank deposits still lag behind inflation, they offer a safe haven for risk-averse investors.\\n\\n### Public Provident Fund (PPF)\\nThe PPF remains an attractive long-term investment option in India, particularly for risk-averse individuals. As of October 2023, PPF interest rates have been maintained at 7.1% per annum, compounded annually. The tax benefits associated with PPF contributions continue to make it a popular choice among investors looking to save for retirement or future financial goals. Furthermore, it is backed by the government, ensuring capital safety.\\n\\n**Conclusion**\\nIn summary, October 2023 reflects a period of cautious optimism across all asset classes. Stocks are showing resilience, real estate continues to thrive, mutual funds are attracting investment, bank deposit rates are recovering, and the PPF remains a solid choice for long-term savings. Investors should consider a diversified approach to capitalize on these market dynamics while remaining mindful of the underlying risks.\",\n",
       " 'secondary_assets': '**Comprehensive Report on Financial Assets (October 2023)**\\n\\n**1. Exchange Traded Funds (ETFs)**  \\nAs of October 2023, Exchange Traded Funds (ETFs) have seen a varied performance, driven largely by sector shifts and macroeconomic conditions. The average price-to-earnings (P/E) ratio for the major ETFs stands around 20.7, indicating a fairly valued market. Notable ETF trends show a strong interest in technology and healthcare sectors, with the Invesco QQQ Trust (QQQ) seeing a year-to-date return of approximately 25%. Investors are also focusing on sustainability, as evidenced by the rise of ESG-focused ETFs which have gained traction, reflecting a growing demand for responsible investment options.\\n\\n**2. Derivatives**  \\nThe derivatives market remains robust, with increased trading activity amid market volatility. As of October 2023, the Chicago Board Options Exchange (CBOE) Volatility Index (VIX) is hovering around 18, suggesting a moderate expectation of market volatility. Options trading volumes have surged, with a notable increase in put options, indicating that investors are hedging against potential downturns. The rise of crypto futures is notable, with Bitcoin futures trading on platforms like CME, contributing to enhanced liquidity in the cryptocurrency market.\\n\\n**3. Cryptocurrency**  \\nCryptocurrency has been experiencing significant fluctuations in October 2023. Bitcoin (BTC) is currently trading around $34,000, having rebounded from a low of $25,000 earlier in the year, thanks to increased institutional interest and favorable regulatory developments. Ethereum (ETH) maintains a price of approximately $2,100, with ongoing shifts toward proof-of-stake impacting its market dynamics. Overall, the total cryptocurrency market capitalization is estimated at $1.2 trillion, with heightened activity in decentralized finance (DeFi) protocols and non-fungible tokens (NFTs) continuing to attract investor interest.\\n\\n**4. Commodities**  \\nIn the commodities market, oil prices have shown volatility, currently trading at about $85 per barrel. Supply constraints coupled with geopolitical tensions have led to these price rises. Gold is trading at approximately $1,950 per ounce, reflecting its status as a safe haven amid inflationary concerns and market uncertainty. Agricultural commodities have also seen a spike, particularly corn and wheat due to adverse weather conditions affecting supplies.\\n\\n**5. Bonds**  \\nThe bond market appears stable with the 10-year U.S. Treasury yield at around 4.25%. The Federal Reserve’s current stance on interest rates suggests a potential hold in the coming months, aiming to curb inflation without stifling economic growth. High-yield corporate bonds have seen their spreads narrow, indicating improved sentiment among investors. Municipal bonds are also gaining traction due to tax incentives, particularly among individual investors looking for tax-efficient income streams.\\n\\n**Conclusion**  \\nThe financial landscape as of October 2023 showcases a mix of opportunities and challenges across various asset classes. ETFs remain popular, driven by sector rotations, while derivatives reveal investor sentiment leaning toward cautious hedging. Cryptocurrency continues to evolve with growing institutional participation, commodities face macroeconomic influences, and the bond market reflects cautious optimism as yields stabilize. Investors are encouraged to remain informed and adaptable in their investment strategies, considering the dynamic nature of these asset classes.'}"
      ]
     },
     "execution_count": 5,
     "metadata": {},
     "output_type": "execute_result"
    }
   ],
   "source": [
    "\n",
    "\n",
    "d1 = { }\n",
    "for k, v in assets_dict.items():\n",
    "    d1[k] = v.raw\n",
    "d1 "
   ]
  },
  {
   "cell_type": "code",
   "execution_count": null,
   "metadata": {},
   "outputs": [],
   "source": [
    "d2 = { }\n",
    "for k, v in trends_dict.items():\n",
    "    d2[k] = v.raw"
   ]
  },
  {
   "cell_type": "code",
   "execution_count": null,
   "metadata": {},
   "outputs": [
    {
     "data": {
      "text/plain": [
       "{'market trends': \"**Market Trends Report - October 2023**\\n\\nAs we near the end of 2023, various trends in the financial markets have emerged, driven by factors such as inflation, interest rates, geopolitical tensions, and technological advancements. Here is a summary of key developments shaping the market landscape.\\n\\n### 1. **Interest Rates and Inflation**\\nCentral banks worldwide remain vigilant regarding inflation rates, which have shown signs of stabilization after a turbulent year. The Federal Reserve has signaled a potential pause in interest rate hikes, with its focus shifting towards assessing the economic impact of previous increases. Market observers foresee inflation gradually decreasing, allowing consumer confidence to rise, which may positively impact spending and investments as we head into 2024.\\n\\n### 2. **Equity Markets Volatility**\\nEquity markets have experienced volatility, propelled by ongoing corporate earnings reports and macroeconomic indicators. Many technology stocks, which rebounded significantly earlier in 2023, are facing profit-taking. Conversely, sectors such as energy and consumer staples continue to perform well, supported by strong fundamentals and favorable demand.\\n\\n### 3. **Emerging Markets**\\nEmerging markets are showing potential for recovery, with several countries benefiting from stabilizing commodity prices and increased foreign investments. Regions like Southeast Asia and South America present opportunities for investors as they adapt to new economic realities post-pandemic. Currency fluctuations remain a concern, but overall, many emerging markets are expected to grow at a faster rate compared to developed economies.\\n\\n### 4. **Sustainable Investing**\\nSustainable and ESG (Environmental, Social, Governance) investing remains at the forefront, with investors increasingly prioritizing sustainability in their portfolios. Companies that demonstrate a commitment to eco-friendly practices are attracting investments, and regulatory frameworks are getting tighter on green disclosures. This trend emphasizes the growing awareness of climate change's impact on financial markets.\\n\\n### 5. **Cryptocurrency Market Adjustments**\\nThe cryptocurrency market has seen significant corrections, yet it continues to evolve with institutional investments becoming more prevalent. Regulatory scrutiny has increased, which may influence market dynamics in the future. Investors are cautiously optimistic about adopting blockchain technology and digital currencies as part of broader financial systems.\\n\\n### Conclusion\\nTo summarize, as of October 2023, financial markets are navigating a complex landscape marked by fluctuating interest rates, strong sector performances, and shifts towards sustainable investing. Investors are encouraged to remain attentive to macroeconomic indicators and company earnings reports while exploring opportunities in both developed and emerging markets. Given the geopolitical uncertainties and potential regulatory changes, a diversified investment strategy will likely mitigate risks and capture growth opportunities value in this ever-changing environment.\",\n",
       " 'news': '---\\n\\n**Investment Companies and Asset Trends - October 2023 Report**\\n\\n**Overview**\\nAs of October 2023, the financial markets continue to experience dynamic shifts influenced by various economic factors. Investment companies and asset management firms have responded to changing market sentiments, technological advancements, and regulatory frameworks. This report summarizes key developments in investment companies, asset classes, and deposit trends during this month.\\n\\n**Investment Companies Adjusting Strategies**\\nIn recent weeks, many investment firms have shifted their strategies in response to market volatility. According to reports, firms have been increasingly reallocating assets towards more stable investments such as high-quality bonds and defensive equity sectors. Notably, this trend has been accelerated by concerns over inflation and interest rate hikes from central banks around the globe.\\n\\nA significant merger between two mid-sized investment firms was announced, enabling them to strengthen their capital base and diversify their portfolios. This trend of consolidation is expected to continue as smaller firms seek resilience against growing competition from larger entities.\\n\\n**Assets Under Management (AUM) and Market Performance**\\nThe overall Assets Under Management (AUM) for major investment firms has shown a modest increase despite general market fluctuations. According to data from leading financial analysts, the AUM in equity funds has seen a decline, while fixed income and alternative assets, such as real estate and private equity, have gained traction. This diversification signifies a crucial shift in investor sentiment toward securing returns in less volatile areas of the market.\\n\\nFurthermore, the technology sector remains a focal point for investments, although it has faced corrections lately due to regulatory scrutiny and profit-taking. Investment companies are increasingly integrating Artificial Intelligence and machine-learning algorithms to enhance portfolio management and provide personalized investment solutions.\\n\\n**Deposit Trends and Banking Sector**\\nRegarding deposits, banks and financial institutions are witnessing shifts in customer behavior. With rising interest rates, consumers are showing an inclination towards high-yield savings accounts and fixed deposits, leading banks to enhance their offerings to attract more retail deposits. \\n\\nFurthermore, digital banking trends continue to disrupt traditional banking, leading to enhanced competition. Banks deploying digital platforms to streamline deposit processes are gaining more traction among younger demographics who favor technology-driven financial services.\\n\\n**Conclusion**\\nThe landscape of investment companies is evolving as they navigate through economic uncertainties, changing investment patterns, and regulatory challenges. Overall, investment firms are likely to focus on restructuring their asset allocations to maintain growth while ensuring stability in their investments. As consumers shift towards more lucrative deposit opportunities, financial institutions are adapting to meet these changing needs. \\n\\nAs the economic climate continues to influence financial markets, staying informed about these trends will be essential for investors making strategic decisions in the remainder of 2023.\\n\\n--- \\n\\nThis report highlights ongoing trends and strategies as of October 2023 based on general knowledge and previous market behaviors. For the latest specific news events, a web search would be beneficial if access is restored.',\n",
       " 'social media': '**Social Media Sentiment Analysis on Investment Companies, Stocks, and Cryptocurrencies in 2023**\\n\\n**Introduction**\\n\\nAs the financial landscape continues to evolve in 2023, sentiment analysis from social media presents investors with invaluable insights. While the real-time data was inaccessible, historical trends shed light on how investors perceive various assets, especially regarding investment companies, stocks, and cryptocurrencies. The data paints a picture of varying sentiments influenced by market developments, regulatory changes, and technological advancements.\\n\\n**Investment Companies**\\n\\nSentiment around investment companies has been cautiously optimistic. Many social media discussions highlight a growing confidence in companies that adapt to changing market dynamics, particularly those embracing technology and sustainable investing. The sentiment analysis indicates an increase in positive mentions of firms leading in ESG (Environmental, Social, and Governance) investing. Platforms like Twitter and Reddit show a significant uptick in discussions around responsible investing, with users appreciating firms that demonstrate ethical practices.\\n\\nHowever, there are also concerns regarding fees associated with investment firms, which some users argue eat into returns. Negative sentiments are directed towards companies perceived as lacking transparency or those with poor customer service.\\n\\n**Stocks**\\n\\nThe sentiment regarding stocks fluctuates based on market events. In the context of tech stocks, there has been considerable enthusiasm, driven by companies successfully incorporating AI and machine learning into their operations. Positive sentiment is often reflected in discussions about growth potential and innovative product launches. However, a pattern of fear was noted surrounding stocks perceived to be overvalued, leading to bearish sentiments among investors.\\n\\nConversely, traditional sectors like energy and manufacturing have garnered mixed reactions. While some investors express confidence in dividend-yielding stocks from these sectors, discussions tend to be more cautious, reflecting worries about economic downturns that could impact these industries negatively.\\n\\n**Cryptocurrencies**\\n\\nThe cryptocurrency market remains highly polarized in social media discussions. In 2023, the sector witnessed increased enthusiasm for certain altcoins and NFTs, largely due to their associated communities and perceived growth potential. Bitcoin, while still a favorite, sees divided opinions, with many advocating for long-term holding strategies while others highlight concerns regarding volatility and regulatory risks.\\n\\nFollowing several high-profile market events, sentiment in the crypto space can swing quickly from euphoric to skeptical. Posts on forums like Reddit often express optimism about decentralized finance (DeFi) and protocols that promise to deliver scalable solutions, while fear and uncertainty are palpable regarding regulatory impacts on the industry and the security of digital assets.\\n\\n**Conclusion**\\n\\nIn conclusion, social media sentiment analysis reveals a complex tapestry of opinions concerning investment companies, stocks, and cryptocurrencies in 2023. Generally, there is a prevailing sense of optimism among users focused on ethical investing, technological advancement, and innovative crypto projects. However, concerns about fees, market volatility, economic conditions, and regulatory scrutiny persist, reflecting the inherent risks in investment decisions. For investors, understanding these sentiments can guide better investment choices and strategies in this ever-changing market. \\n\\nBy continuously monitoring social media sentiments, investors can adapt to market shifts and make informed decisions rooted in current trends and community perspectives.'}"
      ]
     },
     "execution_count": 7,
     "metadata": {},
     "output_type": "execute_result"
    }
   ],
   "source": [
    "d2 "
   ]
  },
  {
   "cell_type": "code",
   "execution_count": null,
   "metadata": {},
   "outputs": [],
   "source": [
    "\n",
    "import json # save these dicts to json \n",
    "# load json files \n",
    "with open('ass.json', 'r') as f:\n",
    "    d1 = json.load(f)\n",
    "\n",
    "with open('trend.json', 'r') as f:\n",
    "    d2 = json.load(f)"
   ]
  },
  {
   "cell_type": "markdown",
   "metadata": {},
   "source": [
    "Data Summarization"
   ]
  },
  {
   "cell_type": "code",
   "execution_count": null,
   "metadata": {},
   "outputs": [
    {
     "name": "stdout",
     "output_type": "stream",
     "text": [
      "[info] --Asset Summarized successfully!--\n",
      "[info] --Trend Summarized successfully!--\n"
     ]
    }
   ],
   "source": [
    "from steps.data_summarization_step import summarizer_step\n",
    "import os \n",
    "\n",
    "\n",
    "summarized_asset, summarized_trends = summarizer_step(assets_dict=d1, trends_dict=d2, api_key=os.environ.get(\"OPENAI_API_KEY\")) "
   ]
  },
  {
   "cell_type": "code",
   "execution_count": null,
   "metadata": {},
   "outputs": [],
   "source": [
    "# summarized_asset.replace('\\n', '').split('.')\n",
    "#split('.'). keep only the even indexes "
   ]
  },
  {
   "cell_type": "markdown",
   "metadata": {},
   "source": [
    "Recommendation Generation"
   ]
  },
  {
   "cell_type": "code",
   "execution_count": null,
   "metadata": {},
   "outputs": [
    {
     "name": "stdout",
     "output_type": "stream",
     "text": [
      "Saved the markdown file!\n"
     ]
    }
   ],
   "source": [
    "from steps.recommendation_generation_step import recommendation_generation_step\n",
    "\n",
    "main_dict = recommendation_generation_step(\n",
    "    asset_data=summarized_asset.replace('\\n', ''),\n",
    "    trend_data=summarized_trends.replace('\\n', ''),\n",
    "    portfolio_data=portfolio,\n",
    "    financial_goals=goals,\n",
    "    risk_tolerance=risks, \n",
    "    api_key=os.environ.get(\"OPENAI_API_KEY\"),\n",
    "    agent_list= ['all'],\n",
    "    model='gpt-3.5-turbo'\n",
    ")"
   ]
  },
  {
   "cell_type": "code",
   "execution_count": 1,
   "metadata": {},
   "outputs": [],
   "source": [
    "def separate_fields(data_dict: dict):\n",
    "    \"\"\"Separate fields into different dictionaries based on their types.\"\"\"\n",
    "\n",
    "    text_list = []\n",
    "    for k, v in data_dict.items():\n",
    "        if isinstance(v, str):\n",
    "            text_list.append(\n",
    "                {'text': v, 'instrument_name': k}\n",
    "            )\n",
    "        else:\n",
    "            print(f\"Field {k} is not a string. Skipping...\")\n",
    "\n",
    "    return text_list"
   ]
  },
  {
   "cell_type": "code",
   "execution_count": 2,
   "metadata": {},
   "outputs": [],
   "source": [
    "data = {'market trends': \"**Market Trends Report - October 2023**\\n\\nAs we near the end of 2023, various trends in the financial markets have emerged, driven by factors such as inflation, interest rates, geopolitical tensions, and technological advancements. Here is a summary of key developments shaping the market landscape.\\n\\n### 1. **Interest Rates and Inflation**\\nCentral banks worldwide remain vigilant regarding inflation rates, which have shown signs of stabilization after a turbulent year. The Federal Reserve has signaled a potential pause in interest rate hikes, with its focus shifting towards assessing the economic impact of previous increases. Market observers foresee inflation gradually decreasing, allowing consumer confidence to rise, which may positively impact spending and investments as we head into 2024.\\n\\n### 2. **Equity Markets Volatility**\\nEquity markets have experienced volatility, propelled by ongoing corporate earnings reports and macroeconomic indicators. Many technology stocks, which rebounded significantly earlier in 2023, are facing profit-taking. Conversely, sectors such as energy and consumer staples continue to perform well, supported by strong fundamentals and favorable demand.\\n\\n### 3. **Emerging Markets**\\nEmerging markets are showing potential for recovery, with several countries benefiting from stabilizing commodity prices and increased foreign investments. Regions like Southeast Asia and South America present opportunities for investors as they adapt to new economic realities post-pandemic. Currency fluctuations remain a concern, but overall, many emerging markets are expected to grow at a faster rate compared to developed economies.\\n\\n### 4. **Sustainable Investing**\\nSustainable and ESG (Environmental, Social, Governance) investing remains at the forefront, with investors increasingly prioritizing sustainability in their portfolios. Companies that demonstrate a commitment to eco-friendly practices are attracting investments, and regulatory frameworks are getting tighter on green disclosures. This trend emphasizes the growing awareness of climate change's impact on financial markets.\\n\\n### 5. **Cryptocurrency Market Adjustments**\\nThe cryptocurrency market has seen significant corrections, yet it continues to evolve with institutional investments becoming more prevalent. Regulatory scrutiny has increased, which may influence market dynamics in the future. Investors are cautiously optimistic about adopting blockchain technology and digital currencies as part of broader financial systems.\\n\\n### Conclusion\\nTo summarize, as of October 2023, financial markets are navigating a complex landscape marked by fluctuating interest rates, strong sector performances, and shifts towards sustainable investing. Investors are encouraged to remain attentive to macroeconomic indicators and company earnings reports while exploring opportunities in both developed and emerging markets. Given the geopolitical uncertainties and potential regulatory changes, a diversified investment strategy will likely mitigate risks and capture growth opportunities value in this ever-changing environment.\",\n",
    " 'news': '---\\n\\n**Investment Companies and Asset Trends - October 2023 Report**\\n\\n**Overview**\\nAs of October 2023, the financial markets continue to experience dynamic shifts influenced by various economic factors. Investment companies and asset management firms have responded to changing market sentiments, technological advancements, and regulatory frameworks. This report summarizes key developments in investment companies, asset classes, and deposit trends during this month.\\n\\n**Investment Companies Adjusting Strategies**\\nIn recent weeks, many investment firms have shifted their strategies in response to market volatility. According to reports, firms have been increasingly reallocating assets towards more stable investments such as high-quality bonds and defensive equity sectors. Notably, this trend has been accelerated by concerns over inflation and interest rate hikes from central banks around the globe.\\n\\nA significant merger between two mid-sized investment firms was announced, enabling them to strengthen their capital base and diversify their portfolios. This trend of consolidation is expected to continue as smaller firms seek resilience against growing competition from larger entities.\\n\\n**Assets Under Management (AUM) and Market Performance**\\nThe overall Assets Under Management (AUM) for major investment firms has shown a modest increase despite general market fluctuations. According to data from leading financial analysts, the AUM in equity funds has seen a decline, while fixed income and alternative assets, such as real estate and private equity, have gained traction. This diversification signifies a crucial shift in investor sentiment toward securing returns in less volatile areas of the market.\\n\\nFurthermore, the technology sector remains a focal point for investments, although it has faced corrections lately due to regulatory scrutiny and profit-taking. Investment companies are increasingly integrating Artificial Intelligence and machine-learning algorithms to enhance portfolio management and provide personalized investment solutions.\\n\\n**Deposit Trends and Banking Sector**\\nRegarding deposits, banks and financial institutions are witnessing shifts in customer behavior. With rising interest rates, consumers are showing an inclination towards high-yield savings accounts and fixed deposits, leading banks to enhance their offerings to attract more retail deposits. \\n\\nFurthermore, digital banking trends continue to disrupt traditional banking, leading to enhanced competition. Banks deploying digital platforms to streamline deposit processes are gaining more traction among younger demographics who favor technology-driven financial services.\\n\\n**Conclusion**\\nThe landscape of investment companies is evolving as they navigate through economic uncertainties, changing investment patterns, and regulatory challenges. Overall, investment firms are likely to focus on restructuring their asset allocations to maintain growth while ensuring stability in their investments. As consumers shift towards more lucrative deposit opportunities, financial institutions are adapting to meet these changing needs. \\n\\nAs the economic climate continues to influence financial markets, staying informed about these trends will be essential for investors making strategic decisions in the remainder of 2023.\\n\\n--- \\n\\nThis report highlights ongoing trends and strategies as of October 2023 based on general knowledge and previous market behaviors. For the latest specific news events, a web search would be beneficial if access is restored.',\n",
    " 'social media': '**Social Media Sentiment Analysis on Investment Companies, Stocks, and Cryptocurrencies in 2023**\\n\\n**Introduction**\\n\\nAs the financial landscape continues to evolve in 2023, sentiment analysis from social media presents investors with invaluable insights. While the real-time data was inaccessible, historical trends shed light on how investors perceive various assets, especially regarding investment companies, stocks, and cryptocurrencies. The data paints a picture of varying sentiments influenced by market developments, regulatory changes, and technological advancements.\\n\\n**Investment Companies**\\n\\nSentiment around investment companies has been cautiously optimistic. Many social media discussions highlight a growing confidence in companies that adapt to changing market dynamics, particularly those embracing technology and sustainable investing. The sentiment analysis indicates an increase in positive mentions of firms leading in ESG (Environmental, Social, and Governance) investing. Platforms like Twitter and Reddit show a significant uptick in discussions around responsible investing, with users appreciating firms that demonstrate ethical practices.\\n\\nHowever, there are also concerns regarding fees associated with investment firms, which some users argue eat into returns. Negative sentiments are directed towards companies perceived as lacking transparency or those with poor customer service.\\n\\n**Stocks**\\n\\nThe sentiment regarding stocks fluctuates based on market events. In the context of tech stocks, there has been considerable enthusiasm, driven by companies successfully incorporating AI and machine learning into their operations. Positive sentiment is often reflected in discussions about growth potential and innovative product launches. However, a pattern of fear was noted surrounding stocks perceived to be overvalued, leading to bearish sentiments among investors.\\n\\nConversely, traditional sectors like energy and manufacturing have garnered mixed reactions. While some investors express confidence in dividend-yielding stocks from these sectors, discussions tend to be more cautious, reflecting worries about economic downturns that could impact these industries negatively.\\n\\n**Cryptocurrencies**\\n\\nThe cryptocurrency market remains highly polarized in social media discussions. In 2023, the sector witnessed increased enthusiasm for certain altcoins and NFTs, largely due to their associated communities and perceived growth potential. Bitcoin, while still a favorite, sees divided opinions, with many advocating for long-term holding strategies while others highlight concerns regarding volatility and regulatory risks.\\n\\nFollowing several high-profile market events, sentiment in the crypto space can swing quickly from euphoric to skeptical. Posts on forums like Reddit often express optimism about decentralized finance (DeFi) and protocols that promise to deliver scalable solutions, while fear and uncertainty are palpable regarding regulatory impacts on the industry and the security of digital assets.\\n\\n**Conclusion**\\n\\nIn conclusion, social media sentiment analysis reveals a complex tapestry of opinions concerning investment companies, stocks, and cryptocurrencies in 2023. Generally, there is a prevailing sense of optimism among users focused on ethical investing, technological advancement, and innovative crypto projects. However, concerns about fees, market volatility, economic conditions, and regulatory scrutiny persist, reflecting the inherent risks in investment decisions. For investors, understanding these sentiments can guide better investment choices and strategies in this ever-changing market. \\n\\nBy continuously monitoring social media sentiments, investors can adapt to market shifts and make informed decisions rooted in current trends and community perspectives.'}"
   ]
  },
  {
   "cell_type": "code",
   "execution_count": 3,
   "metadata": {},
   "outputs": [],
   "source": [
    "lst = separate_fields(data)"
   ]
  },
  {
   "cell_type": "code",
   "execution_count": 4,
   "metadata": {},
   "outputs": [
    {
     "data": {
      "text/plain": [
       "[{'text': \"**Market Trends Report - October 2023**\\n\\nAs we near the end of 2023, various trends in the financial markets have emerged, driven by factors such as inflation, interest rates, geopolitical tensions, and technological advancements. Here is a summary of key developments shaping the market landscape.\\n\\n### 1. **Interest Rates and Inflation**\\nCentral banks worldwide remain vigilant regarding inflation rates, which have shown signs of stabilization after a turbulent year. The Federal Reserve has signaled a potential pause in interest rate hikes, with its focus shifting towards assessing the economic impact of previous increases. Market observers foresee inflation gradually decreasing, allowing consumer confidence to rise, which may positively impact spending and investments as we head into 2024.\\n\\n### 2. **Equity Markets Volatility**\\nEquity markets have experienced volatility, propelled by ongoing corporate earnings reports and macroeconomic indicators. Many technology stocks, which rebounded significantly earlier in 2023, are facing profit-taking. Conversely, sectors such as energy and consumer staples continue to perform well, supported by strong fundamentals and favorable demand.\\n\\n### 3. **Emerging Markets**\\nEmerging markets are showing potential for recovery, with several countries benefiting from stabilizing commodity prices and increased foreign investments. Regions like Southeast Asia and South America present opportunities for investors as they adapt to new economic realities post-pandemic. Currency fluctuations remain a concern, but overall, many emerging markets are expected to grow at a faster rate compared to developed economies.\\n\\n### 4. **Sustainable Investing**\\nSustainable and ESG (Environmental, Social, Governance) investing remains at the forefront, with investors increasingly prioritizing sustainability in their portfolios. Companies that demonstrate a commitment to eco-friendly practices are attracting investments, and regulatory frameworks are getting tighter on green disclosures. This trend emphasizes the growing awareness of climate change's impact on financial markets.\\n\\n### 5. **Cryptocurrency Market Adjustments**\\nThe cryptocurrency market has seen significant corrections, yet it continues to evolve with institutional investments becoming more prevalent. Regulatory scrutiny has increased, which may influence market dynamics in the future. Investors are cautiously optimistic about adopting blockchain technology and digital currencies as part of broader financial systems.\\n\\n### Conclusion\\nTo summarize, as of October 2023, financial markets are navigating a complex landscape marked by fluctuating interest rates, strong sector performances, and shifts towards sustainable investing. Investors are encouraged to remain attentive to macroeconomic indicators and company earnings reports while exploring opportunities in both developed and emerging markets. Given the geopolitical uncertainties and potential regulatory changes, a diversified investment strategy will likely mitigate risks and capture growth opportunities value in this ever-changing environment.\",\n",
       "  'instrument_name': 'market trends'},\n",
       " {'text': '---\\n\\n**Investment Companies and Asset Trends - October 2023 Report**\\n\\n**Overview**\\nAs of October 2023, the financial markets continue to experience dynamic shifts influenced by various economic factors. Investment companies and asset management firms have responded to changing market sentiments, technological advancements, and regulatory frameworks. This report summarizes key developments in investment companies, asset classes, and deposit trends during this month.\\n\\n**Investment Companies Adjusting Strategies**\\nIn recent weeks, many investment firms have shifted their strategies in response to market volatility. According to reports, firms have been increasingly reallocating assets towards more stable investments such as high-quality bonds and defensive equity sectors. Notably, this trend has been accelerated by concerns over inflation and interest rate hikes from central banks around the globe.\\n\\nA significant merger between two mid-sized investment firms was announced, enabling them to strengthen their capital base and diversify their portfolios. This trend of consolidation is expected to continue as smaller firms seek resilience against growing competition from larger entities.\\n\\n**Assets Under Management (AUM) and Market Performance**\\nThe overall Assets Under Management (AUM) for major investment firms has shown a modest increase despite general market fluctuations. According to data from leading financial analysts, the AUM in equity funds has seen a decline, while fixed income and alternative assets, such as real estate and private equity, have gained traction. This diversification signifies a crucial shift in investor sentiment toward securing returns in less volatile areas of the market.\\n\\nFurthermore, the technology sector remains a focal point for investments, although it has faced corrections lately due to regulatory scrutiny and profit-taking. Investment companies are increasingly integrating Artificial Intelligence and machine-learning algorithms to enhance portfolio management and provide personalized investment solutions.\\n\\n**Deposit Trends and Banking Sector**\\nRegarding deposits, banks and financial institutions are witnessing shifts in customer behavior. With rising interest rates, consumers are showing an inclination towards high-yield savings accounts and fixed deposits, leading banks to enhance their offerings to attract more retail deposits. \\n\\nFurthermore, digital banking trends continue to disrupt traditional banking, leading to enhanced competition. Banks deploying digital platforms to streamline deposit processes are gaining more traction among younger demographics who favor technology-driven financial services.\\n\\n**Conclusion**\\nThe landscape of investment companies is evolving as they navigate through economic uncertainties, changing investment patterns, and regulatory challenges. Overall, investment firms are likely to focus on restructuring their asset allocations to maintain growth while ensuring stability in their investments. As consumers shift towards more lucrative deposit opportunities, financial institutions are adapting to meet these changing needs. \\n\\nAs the economic climate continues to influence financial markets, staying informed about these trends will be essential for investors making strategic decisions in the remainder of 2023.\\n\\n--- \\n\\nThis report highlights ongoing trends and strategies as of October 2023 based on general knowledge and previous market behaviors. For the latest specific news events, a web search would be beneficial if access is restored.',\n",
       "  'instrument_name': 'news'},\n",
       " {'text': '**Social Media Sentiment Analysis on Investment Companies, Stocks, and Cryptocurrencies in 2023**\\n\\n**Introduction**\\n\\nAs the financial landscape continues to evolve in 2023, sentiment analysis from social media presents investors with invaluable insights. While the real-time data was inaccessible, historical trends shed light on how investors perceive various assets, especially regarding investment companies, stocks, and cryptocurrencies. The data paints a picture of varying sentiments influenced by market developments, regulatory changes, and technological advancements.\\n\\n**Investment Companies**\\n\\nSentiment around investment companies has been cautiously optimistic. Many social media discussions highlight a growing confidence in companies that adapt to changing market dynamics, particularly those embracing technology and sustainable investing. The sentiment analysis indicates an increase in positive mentions of firms leading in ESG (Environmental, Social, and Governance) investing. Platforms like Twitter and Reddit show a significant uptick in discussions around responsible investing, with users appreciating firms that demonstrate ethical practices.\\n\\nHowever, there are also concerns regarding fees associated with investment firms, which some users argue eat into returns. Negative sentiments are directed towards companies perceived as lacking transparency or those with poor customer service.\\n\\n**Stocks**\\n\\nThe sentiment regarding stocks fluctuates based on market events. In the context of tech stocks, there has been considerable enthusiasm, driven by companies successfully incorporating AI and machine learning into their operations. Positive sentiment is often reflected in discussions about growth potential and innovative product launches. However, a pattern of fear was noted surrounding stocks perceived to be overvalued, leading to bearish sentiments among investors.\\n\\nConversely, traditional sectors like energy and manufacturing have garnered mixed reactions. While some investors express confidence in dividend-yielding stocks from these sectors, discussions tend to be more cautious, reflecting worries about economic downturns that could impact these industries negatively.\\n\\n**Cryptocurrencies**\\n\\nThe cryptocurrency market remains highly polarized in social media discussions. In 2023, the sector witnessed increased enthusiasm for certain altcoins and NFTs, largely due to their associated communities and perceived growth potential. Bitcoin, while still a favorite, sees divided opinions, with many advocating for long-term holding strategies while others highlight concerns regarding volatility and regulatory risks.\\n\\nFollowing several high-profile market events, sentiment in the crypto space can swing quickly from euphoric to skeptical. Posts on forums like Reddit often express optimism about decentralized finance (DeFi) and protocols that promise to deliver scalable solutions, while fear and uncertainty are palpable regarding regulatory impacts on the industry and the security of digital assets.\\n\\n**Conclusion**\\n\\nIn conclusion, social media sentiment analysis reveals a complex tapestry of opinions concerning investment companies, stocks, and cryptocurrencies in 2023. Generally, there is a prevailing sense of optimism among users focused on ethical investing, technological advancement, and innovative crypto projects. However, concerns about fees, market volatility, economic conditions, and regulatory scrutiny persist, reflecting the inherent risks in investment decisions. For investors, understanding these sentiments can guide better investment choices and strategies in this ever-changing market. \\n\\nBy continuously monitoring social media sentiments, investors can adapt to market shifts and make informed decisions rooted in current trends and community perspectives.',\n",
       "  'instrument_name': 'social media'}]"
      ]
     },
     "execution_count": 4,
     "metadata": {},
     "output_type": "execute_result"
    }
   ],
   "source": [
    "lst"
   ]
  },
  {
   "cell_type": "code",
   "execution_count": 5,
   "metadata": {},
   "outputs": [],
   "source": [
    "from db.embedding_function import generate_embedding\n",
    "\n",
    "e = generate_embedding(lst)"
   ]
  },
  {
   "cell_type": "code",
   "execution_count": 6,
   "metadata": {},
   "outputs": [
    {
     "data": {
      "text/plain": [
       "[{'values': [0.0218658447265625, -0.01885986328125, ..., -0.01287078857421875, -0.027923583984375]},\n",
       " {'values': [0.032806396484375, -0.017852783203125, ..., -0.0265045166015625, -0.023223876953125]},\n",
       " {'values': [0.0014448165893554688, -0.0247650146484375, ..., -0.03717041015625, -0.0262298583984375]}]"
      ]
     },
     "execution_count": 6,
     "metadata": {},
     "output_type": "execute_result"
    }
   ],
   "source": [
    "e"
   ]
  },
  {
   "cell_type": "code",
   "execution_count": 7,
   "metadata": {},
   "outputs": [
    {
     "data": {
      "text/plain": [
       "[{'text': \"**Market Trends Report - October 2023**\\n\\nAs we near the end of 2023, various trends in the financial markets have emerged, driven by factors such as inflation, interest rates, geopolitical tensions, and technological advancements. Here is a summary of key developments shaping the market landscape.\\n\\n### 1. **Interest Rates and Inflation**\\nCentral banks worldwide remain vigilant regarding inflation rates, which have shown signs of stabilization after a turbulent year. The Federal Reserve has signaled a potential pause in interest rate hikes, with its focus shifting towards assessing the economic impact of previous increases. Market observers foresee inflation gradually decreasing, allowing consumer confidence to rise, which may positively impact spending and investments as we head into 2024.\\n\\n### 2. **Equity Markets Volatility**\\nEquity markets have experienced volatility, propelled by ongoing corporate earnings reports and macroeconomic indicators. Many technology stocks, which rebounded significantly earlier in 2023, are facing profit-taking. Conversely, sectors such as energy and consumer staples continue to perform well, supported by strong fundamentals and favorable demand.\\n\\n### 3. **Emerging Markets**\\nEmerging markets are showing potential for recovery, with several countries benefiting from stabilizing commodity prices and increased foreign investments. Regions like Southeast Asia and South America present opportunities for investors as they adapt to new economic realities post-pandemic. Currency fluctuations remain a concern, but overall, many emerging markets are expected to grow at a faster rate compared to developed economies.\\n\\n### 4. **Sustainable Investing**\\nSustainable and ESG (Environmental, Social, Governance) investing remains at the forefront, with investors increasingly prioritizing sustainability in their portfolios. Companies that demonstrate a commitment to eco-friendly practices are attracting investments, and regulatory frameworks are getting tighter on green disclosures. This trend emphasizes the growing awareness of climate change's impact on financial markets.\\n\\n### 5. **Cryptocurrency Market Adjustments**\\nThe cryptocurrency market has seen significant corrections, yet it continues to evolve with institutional investments becoming more prevalent. Regulatory scrutiny has increased, which may influence market dynamics in the future. Investors are cautiously optimistic about adopting blockchain technology and digital currencies as part of broader financial systems.\\n\\n### Conclusion\\nTo summarize, as of October 2023, financial markets are navigating a complex landscape marked by fluctuating interest rates, strong sector performances, and shifts towards sustainable investing. Investors are encouraged to remain attentive to macroeconomic indicators and company earnings reports while exploring opportunities in both developed and emerging markets. Given the geopolitical uncertainties and potential regulatory changes, a diversified investment strategy will likely mitigate risks and capture growth opportunities value in this ever-changing environment.\",\n",
       "  'instrument_name': 'market trends'},\n",
       " {'text': '---\\n\\n**Investment Companies and Asset Trends - October 2023 Report**\\n\\n**Overview**\\nAs of October 2023, the financial markets continue to experience dynamic shifts influenced by various economic factors. Investment companies and asset management firms have responded to changing market sentiments, technological advancements, and regulatory frameworks. This report summarizes key developments in investment companies, asset classes, and deposit trends during this month.\\n\\n**Investment Companies Adjusting Strategies**\\nIn recent weeks, many investment firms have shifted their strategies in response to market volatility. According to reports, firms have been increasingly reallocating assets towards more stable investments such as high-quality bonds and defensive equity sectors. Notably, this trend has been accelerated by concerns over inflation and interest rate hikes from central banks around the globe.\\n\\nA significant merger between two mid-sized investment firms was announced, enabling them to strengthen their capital base and diversify their portfolios. This trend of consolidation is expected to continue as smaller firms seek resilience against growing competition from larger entities.\\n\\n**Assets Under Management (AUM) and Market Performance**\\nThe overall Assets Under Management (AUM) for major investment firms has shown a modest increase despite general market fluctuations. According to data from leading financial analysts, the AUM in equity funds has seen a decline, while fixed income and alternative assets, such as real estate and private equity, have gained traction. This diversification signifies a crucial shift in investor sentiment toward securing returns in less volatile areas of the market.\\n\\nFurthermore, the technology sector remains a focal point for investments, although it has faced corrections lately due to regulatory scrutiny and profit-taking. Investment companies are increasingly integrating Artificial Intelligence and machine-learning algorithms to enhance portfolio management and provide personalized investment solutions.\\n\\n**Deposit Trends and Banking Sector**\\nRegarding deposits, banks and financial institutions are witnessing shifts in customer behavior. With rising interest rates, consumers are showing an inclination towards high-yield savings accounts and fixed deposits, leading banks to enhance their offerings to attract more retail deposits. \\n\\nFurthermore, digital banking trends continue to disrupt traditional banking, leading to enhanced competition. Banks deploying digital platforms to streamline deposit processes are gaining more traction among younger demographics who favor technology-driven financial services.\\n\\n**Conclusion**\\nThe landscape of investment companies is evolving as they navigate through economic uncertainties, changing investment patterns, and regulatory challenges. Overall, investment firms are likely to focus on restructuring their asset allocations to maintain growth while ensuring stability in their investments. As consumers shift towards more lucrative deposit opportunities, financial institutions are adapting to meet these changing needs. \\n\\nAs the economic climate continues to influence financial markets, staying informed about these trends will be essential for investors making strategic decisions in the remainder of 2023.\\n\\n--- \\n\\nThis report highlights ongoing trends and strategies as of October 2023 based on general knowledge and previous market behaviors. For the latest specific news events, a web search would be beneficial if access is restored.',\n",
       "  'instrument_name': 'news'},\n",
       " {'text': '**Social Media Sentiment Analysis on Investment Companies, Stocks, and Cryptocurrencies in 2023**\\n\\n**Introduction**\\n\\nAs the financial landscape continues to evolve in 2023, sentiment analysis from social media presents investors with invaluable insights. While the real-time data was inaccessible, historical trends shed light on how investors perceive various assets, especially regarding investment companies, stocks, and cryptocurrencies. The data paints a picture of varying sentiments influenced by market developments, regulatory changes, and technological advancements.\\n\\n**Investment Companies**\\n\\nSentiment around investment companies has been cautiously optimistic. Many social media discussions highlight a growing confidence in companies that adapt to changing market dynamics, particularly those embracing technology and sustainable investing. The sentiment analysis indicates an increase in positive mentions of firms leading in ESG (Environmental, Social, and Governance) investing. Platforms like Twitter and Reddit show a significant uptick in discussions around responsible investing, with users appreciating firms that demonstrate ethical practices.\\n\\nHowever, there are also concerns regarding fees associated with investment firms, which some users argue eat into returns. Negative sentiments are directed towards companies perceived as lacking transparency or those with poor customer service.\\n\\n**Stocks**\\n\\nThe sentiment regarding stocks fluctuates based on market events. In the context of tech stocks, there has been considerable enthusiasm, driven by companies successfully incorporating AI and machine learning into their operations. Positive sentiment is often reflected in discussions about growth potential and innovative product launches. However, a pattern of fear was noted surrounding stocks perceived to be overvalued, leading to bearish sentiments among investors.\\n\\nConversely, traditional sectors like energy and manufacturing have garnered mixed reactions. While some investors express confidence in dividend-yielding stocks from these sectors, discussions tend to be more cautious, reflecting worries about economic downturns that could impact these industries negatively.\\n\\n**Cryptocurrencies**\\n\\nThe cryptocurrency market remains highly polarized in social media discussions. In 2023, the sector witnessed increased enthusiasm for certain altcoins and NFTs, largely due to their associated communities and perceived growth potential. Bitcoin, while still a favorite, sees divided opinions, with many advocating for long-term holding strategies while others highlight concerns regarding volatility and regulatory risks.\\n\\nFollowing several high-profile market events, sentiment in the crypto space can swing quickly from euphoric to skeptical. Posts on forums like Reddit often express optimism about decentralized finance (DeFi) and protocols that promise to deliver scalable solutions, while fear and uncertainty are palpable regarding regulatory impacts on the industry and the security of digital assets.\\n\\n**Conclusion**\\n\\nIn conclusion, social media sentiment analysis reveals a complex tapestry of opinions concerning investment companies, stocks, and cryptocurrencies in 2023. Generally, there is a prevailing sense of optimism among users focused on ethical investing, technological advancement, and innovative crypto projects. However, concerns about fees, market volatility, economic conditions, and regulatory scrutiny persist, reflecting the inherent risks in investment decisions. For investors, understanding these sentiments can guide better investment choices and strategies in this ever-changing market. \\n\\nBy continuously monitoring social media sentiments, investors can adapt to market shifts and make informed decisions rooted in current trends and community perspectives.',\n",
       "  'instrument_name': 'social media'}]"
      ]
     },
     "execution_count": 7,
     "metadata": {},
     "output_type": "execute_result"
    }
   ],
   "source": [
    "lst"
   ]
  },
  {
   "cell_type": "code",
   "execution_count": 9,
   "metadata": {},
   "outputs": [
    {
     "name": "stdout",
     "output_type": "stream",
     "text": [
      "Client connected\n",
      "Index invest-data already exists\n",
      "Records created\n",
      "3 records Upserted\n"
     ]
    }
   ],
   "source": [
    "from db.pinecone_client import upsert_data \n",
    "\n",
    "\n",
    "upsert_data(\n",
    "    index_name='invest-data', \n",
    "    meta_data_dict=lst,\n",
    "    embeddings=e\n",
    ")"
   ]
  },
  {
   "cell_type": "code",
   "execution_count": 10,
   "metadata": {},
   "outputs": [
    {
     "data": {
      "text/plain": [
       "[{'text': \"**Market Trends Report - October 2023**\\n\\nAs we near the end of 2023, various trends in the financial markets have emerged, driven by factors such as inflation, interest rates, geopolitical tensions, and technological advancements. Here is a summary of key developments shaping the market landscape.\\n\\n### 1. **Interest Rates and Inflation**\\nCentral banks worldwide remain vigilant regarding inflation rates, which have shown signs of stabilization after a turbulent year. The Federal Reserve has signaled a potential pause in interest rate hikes, with its focus shifting towards assessing the economic impact of previous increases. Market observers foresee inflation gradually decreasing, allowing consumer confidence to rise, which may positively impact spending and investments as we head into 2024.\\n\\n### 2. **Equity Markets Volatility**\\nEquity markets have experienced volatility, propelled by ongoing corporate earnings reports and macroeconomic indicators. Many technology stocks, which rebounded significantly earlier in 2023, are facing profit-taking. Conversely, sectors such as energy and consumer staples continue to perform well, supported by strong fundamentals and favorable demand.\\n\\n### 3. **Emerging Markets**\\nEmerging markets are showing potential for recovery, with several countries benefiting from stabilizing commodity prices and increased foreign investments. Regions like Southeast Asia and South America present opportunities for investors as they adapt to new economic realities post-pandemic. Currency fluctuations remain a concern, but overall, many emerging markets are expected to grow at a faster rate compared to developed economies.\\n\\n### 4. **Sustainable Investing**\\nSustainable and ESG (Environmental, Social, Governance) investing remains at the forefront, with investors increasingly prioritizing sustainability in their portfolios. Companies that demonstrate a commitment to eco-friendly practices are attracting investments, and regulatory frameworks are getting tighter on green disclosures. This trend emphasizes the growing awareness of climate change's impact on financial markets.\\n\\n### 5. **Cryptocurrency Market Adjustments**\\nThe cryptocurrency market has seen significant corrections, yet it continues to evolve with institutional investments becoming more prevalent. Regulatory scrutiny has increased, which may influence market dynamics in the future. Investors are cautiously optimistic about adopting blockchain technology and digital currencies as part of broader financial systems.\\n\\n### Conclusion\\nTo summarize, as of October 2023, financial markets are navigating a complex landscape marked by fluctuating interest rates, strong sector performances, and shifts towards sustainable investing. Investors are encouraged to remain attentive to macroeconomic indicators and company earnings reports while exploring opportunities in both developed and emerging markets. Given the geopolitical uncertainties and potential regulatory changes, a diversified investment strategy will likely mitigate risks and capture growth opportunities value in this ever-changing environment.\",\n",
       "  'instrument_name': 'market trends'},\n",
       " {'text': '---\\n\\n**Investment Companies and Asset Trends - October 2023 Report**\\n\\n**Overview**\\nAs of October 2023, the financial markets continue to experience dynamic shifts influenced by various economic factors. Investment companies and asset management firms have responded to changing market sentiments, technological advancements, and regulatory frameworks. This report summarizes key developments in investment companies, asset classes, and deposit trends during this month.\\n\\n**Investment Companies Adjusting Strategies**\\nIn recent weeks, many investment firms have shifted their strategies in response to market volatility. According to reports, firms have been increasingly reallocating assets towards more stable investments such as high-quality bonds and defensive equity sectors. Notably, this trend has been accelerated by concerns over inflation and interest rate hikes from central banks around the globe.\\n\\nA significant merger between two mid-sized investment firms was announced, enabling them to strengthen their capital base and diversify their portfolios. This trend of consolidation is expected to continue as smaller firms seek resilience against growing competition from larger entities.\\n\\n**Assets Under Management (AUM) and Market Performance**\\nThe overall Assets Under Management (AUM) for major investment firms has shown a modest increase despite general market fluctuations. According to data from leading financial analysts, the AUM in equity funds has seen a decline, while fixed income and alternative assets, such as real estate and private equity, have gained traction. This diversification signifies a crucial shift in investor sentiment toward securing returns in less volatile areas of the market.\\n\\nFurthermore, the technology sector remains a focal point for investments, although it has faced corrections lately due to regulatory scrutiny and profit-taking. Investment companies are increasingly integrating Artificial Intelligence and machine-learning algorithms to enhance portfolio management and provide personalized investment solutions.\\n\\n**Deposit Trends and Banking Sector**\\nRegarding deposits, banks and financial institutions are witnessing shifts in customer behavior. With rising interest rates, consumers are showing an inclination towards high-yield savings accounts and fixed deposits, leading banks to enhance their offerings to attract more retail deposits. \\n\\nFurthermore, digital banking trends continue to disrupt traditional banking, leading to enhanced competition. Banks deploying digital platforms to streamline deposit processes are gaining more traction among younger demographics who favor technology-driven financial services.\\n\\n**Conclusion**\\nThe landscape of investment companies is evolving as they navigate through economic uncertainties, changing investment patterns, and regulatory challenges. Overall, investment firms are likely to focus on restructuring their asset allocations to maintain growth while ensuring stability in their investments. As consumers shift towards more lucrative deposit opportunities, financial institutions are adapting to meet these changing needs. \\n\\nAs the economic climate continues to influence financial markets, staying informed about these trends will be essential for investors making strategic decisions in the remainder of 2023.\\n\\n--- \\n\\nThis report highlights ongoing trends and strategies as of October 2023 based on general knowledge and previous market behaviors. For the latest specific news events, a web search would be beneficial if access is restored.',\n",
       "  'instrument_name': 'news'},\n",
       " {'text': '**Social Media Sentiment Analysis on Investment Companies, Stocks, and Cryptocurrencies in 2023**\\n\\n**Introduction**\\n\\nAs the financial landscape continues to evolve in 2023, sentiment analysis from social media presents investors with invaluable insights. While the real-time data was inaccessible, historical trends shed light on how investors perceive various assets, especially regarding investment companies, stocks, and cryptocurrencies. The data paints a picture of varying sentiments influenced by market developments, regulatory changes, and technological advancements.\\n\\n**Investment Companies**\\n\\nSentiment around investment companies has been cautiously optimistic. Many social media discussions highlight a growing confidence in companies that adapt to changing market dynamics, particularly those embracing technology and sustainable investing. The sentiment analysis indicates an increase in positive mentions of firms leading in ESG (Environmental, Social, and Governance) investing. Platforms like Twitter and Reddit show a significant uptick in discussions around responsible investing, with users appreciating firms that demonstrate ethical practices.\\n\\nHowever, there are also concerns regarding fees associated with investment firms, which some users argue eat into returns. Negative sentiments are directed towards companies perceived as lacking transparency or those with poor customer service.\\n\\n**Stocks**\\n\\nThe sentiment regarding stocks fluctuates based on market events. In the context of tech stocks, there has been considerable enthusiasm, driven by companies successfully incorporating AI and machine learning into their operations. Positive sentiment is often reflected in discussions about growth potential and innovative product launches. However, a pattern of fear was noted surrounding stocks perceived to be overvalued, leading to bearish sentiments among investors.\\n\\nConversely, traditional sectors like energy and manufacturing have garnered mixed reactions. While some investors express confidence in dividend-yielding stocks from these sectors, discussions tend to be more cautious, reflecting worries about economic downturns that could impact these industries negatively.\\n\\n**Cryptocurrencies**\\n\\nThe cryptocurrency market remains highly polarized in social media discussions. In 2023, the sector witnessed increased enthusiasm for certain altcoins and NFTs, largely due to their associated communities and perceived growth potential. Bitcoin, while still a favorite, sees divided opinions, with many advocating for long-term holding strategies while others highlight concerns regarding volatility and regulatory risks.\\n\\nFollowing several high-profile market events, sentiment in the crypto space can swing quickly from euphoric to skeptical. Posts on forums like Reddit often express optimism about decentralized finance (DeFi) and protocols that promise to deliver scalable solutions, while fear and uncertainty are palpable regarding regulatory impacts on the industry and the security of digital assets.\\n\\n**Conclusion**\\n\\nIn conclusion, social media sentiment analysis reveals a complex tapestry of opinions concerning investment companies, stocks, and cryptocurrencies in 2023. Generally, there is a prevailing sense of optimism among users focused on ethical investing, technological advancement, and innovative crypto projects. However, concerns about fees, market volatility, economic conditions, and regulatory scrutiny persist, reflecting the inherent risks in investment decisions. For investors, understanding these sentiments can guide better investment choices and strategies in this ever-changing market. \\n\\nBy continuously monitoring social media sentiments, investors can adapt to market shifts and make informed decisions rooted in current trends and community perspectives.',\n",
       "  'instrument_name': 'social media'}]"
      ]
     },
     "execution_count": 10,
     "metadata": {},
     "output_type": "execute_result"
    }
   ],
   "source": [
    "lst"
   ]
  },
  {
   "cell_type": "code",
   "execution_count": 16,
   "metadata": {},
   "outputs": [],
   "source": [
    "from pinecone.grpc import PineconeGRPC as Pinecone\n",
    "import os \n",
    "pc = Pinecone(api_key=os.environ.get('PINECONE_API_KEY'))\n",
    "ind = pc.Index('invest-data')"
   ]
  },
  {
   "cell_type": "code",
   "execution_count": null,
   "metadata": {},
   "outputs": [],
   "source": [
    "# Define your query\n",
    "query = \"Tell me about volatility in equity markets?\"\n",
    "\n",
    "# Convert the query into a numerical vector that Pinecone can search with\n",
    "query_embedding = pc.inference.embed(\n",
    "    model=\"multilingual-e5-large\",\n",
    "    inputs=[query],\n",
    "    parameters={\n",
    "        \"input_type\": \"query\"\n",
    "    }\n",
    ")\n",
    "\n",
    "# Search the index for the three most similar vectors\n",
    "results = ind.query(\n",
    "    # namespace=\"default\",\n",
    "    vector=query_embedding[0].values,\n",
    "    top_k=2,\n",
    "    include_values=False,\n",
    "    include_metadata=True\n",
    ")"
   ]
  },
  {
   "cell_type": "code",
   "execution_count": null,
   "metadata": {},
   "outputs": [],
   "source": []
  }
 ],
 "metadata": {
  "kernelspec": {
   "display_name": "base",
   "language": "python",
   "name": "python3"
  },
  "language_info": {
   "codemirror_mode": {
    "name": "ipython",
    "version": 3
   },
   "file_extension": ".py",
   "mimetype": "text/x-python",
   "name": "python",
   "nbconvert_exporter": "python",
   "pygments_lexer": "ipython3",
   "version": "3.11.5"
  }
 },
 "nbformat": 4,
 "nbformat_minor": 2
}
