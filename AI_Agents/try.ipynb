{
 "cells": [
  {
   "cell_type": "code",
   "execution_count": 1,
   "metadata": {},
   "outputs": [],
   "source": [
    "import json \n",
    "import os "
   ]
  },
  {
   "cell_type": "code",
   "execution_count": 4,
   "metadata": {},
   "outputs": [],
   "source": [
    "with open('prompts/asset_agent_prompts.json', 'r') as f:\n",
    "        agent_prompts = json.load(f)\n",
    "with open('prompts/asset_task_prompts.json', 'r') as f:\n",
    "    task_prompts = json.load(f)"
   ]
  },
  {
   "cell_type": "code",
   "execution_count": 7,
   "metadata": {},
   "outputs": [],
   "source": [
    "pass_list = ['stocks', 'bonds', 'real estate']\n",
    "\n",
    "# only select the prompts that are in the pass list\n",
    "a = {k:v for k,v in agent_prompts.items() if k in pass_list}\n",
    "b = {k:v for k,v in task_prompts.items() if k in pass_list}"
   ]
  },
  {
   "cell_type": "code",
   "execution_count": null,
   "metadata": {},
   "outputs": [
    {
     "data": {
      "text/plain": [
       "{'stocks': {'role': 'investor',\n",
       "  'goal': 'fuck around',\n",
       "  'backstory': 'fucked badly '},\n",
       " 'real estate': {'role': 'investor',\n",
       "  'goal': 'make money',\n",
       "  'backstory': 'made money'},\n",
       " 'bonds': {'role': 'investor',\n",
       "  'goal': 'make money',\n",
       "  'backstory': 'made money'}}"
      ]
     },
     "execution_count": 10,
     "metadata": {},
     "output_type": "execute_result"
    }
   ],
   "source": [
    "for k, v in a.items():\n",
    "    agent = CustomAgent(v.get('role'), v.get('prompt'), v.get('response')) # stocks\n",
    "    task = CustomTask(b.get(k).get('description'), b.get(k).get('expected_output'))"
   ]
  },
  {
   "cell_type": "code",
   "execution_count": 11,
   "metadata": {},
   "outputs": [
    {
     "data": {
      "text/plain": [
       "{'stocks': {'description': 'fuck around', 'expected_output': 'fuck life'},\n",
       " 'real estate': {'description': 'buy a house',\n",
       "  'expected_output': 'buy a house'},\n",
       " 'bonds': {'description': 'bonds', 'expected_output': 'bonds'}}"
      ]
     },
     "execution_count": 11,
     "metadata": {},
     "output_type": "execute_result"
    }
   ],
   "source": [
    "b"
   ]
  },
  {
   "cell_type": "code",
   "execution_count": null,
   "metadata": {},
   "outputs": [],
   "source": []
  }
 ],
 "metadata": {
  "kernelspec": {
   "display_name": "base",
   "language": "python",
   "name": "python3"
  },
  "language_info": {
   "codemirror_mode": {
    "name": "ipython",
    "version": 3
   },
   "file_extension": ".py",
   "mimetype": "text/x-python",
   "name": "python",
   "nbconvert_exporter": "python",
   "pygments_lexer": "ipython3",
   "version": "3.11.5"
  }
 },
 "nbformat": 4,
 "nbformat_minor": 2
}
